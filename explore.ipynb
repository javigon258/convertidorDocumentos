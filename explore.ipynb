{
 "cells": [
  {
   "cell_type": "code",
   "execution_count": null,
   "id": "89e977b9",
   "metadata": {},
   "outputs": [
    {
     "name": "stdout",
     "output_type": "stream",
     "text": [
      "No se encontró la tabla de empresas.\n"
     ]
    }
   ],
   "source": [
    "import requests\n",
    "from bs4 import BeautifulSoup\n",
    "\n",
    "url = \"https://www.expansion.com/empresas-de/servicios-comerciales/programacion-de-ordenadores-y-software/alicante/11.html\"\n",
    "headers = {\"User-Agent\": \"Mozilla/5.0\"}\n",
    "\n",
    "res = requests.get(url, headers=headers)\n",
    "soup = BeautifulSoup(res.text, 'html.parser')\n",
    "\n",
    "# Buscar los elementos <li class=\"col1\">\n",
    "elementos = soup.select(\"li.col1\")\n",
    "\n",
    "with open(\"empresas.txt\", \"w\", encoding=\"utf-8\") as f:\n",
    "    for el in elementos:\n",
    "        texto = el.get_text(strip=True)\n",
    "        print(texto)\n",
    "        f.write(texto + \"\\n\")\n"
   ]
  },
  {
   "cell_type": "code",
   "execution_count": 4,
   "id": "91ca603d",
   "metadata": {},
   "outputs": [],
   "source": [
    "import requests\n",
    "from bs4 import BeautifulSoup\n",
    "import time\n",
    "\n",
    "def buscar_duckduckgo(query):\n",
    "    url = f\"https://html.duckduckgo.com/html/?q={query}\"\n",
    "    headers = {\"User-Agent\": \"Mozilla/5.0\"}\n",
    "\n",
    "    res = requests.get(url, headers=headers)\n",
    "    print(f\"Buscando: {query}\")\n",
    "    print(res.text[:1000])  # Muestra los primeros 1000 caracteres del HTML\n",
    "    soup = BeautifulSoup(res.text, 'html.parser')\n",
    "\n",
    "    enlaces = []\n",
    "    for link in soup.find_all('a', class_='result__a'):\n",
    "        href = link.get('href')\n",
    "        if href:\n",
    "            enlaces.append(href)\n",
    "    return enlaces\n",
    "\n",
    "# Leer empresas desde un archivo\n",
    "with open(\"empresas.txt\", \"r\", encoding=\"utf-8\") as f:\n",
    "    empresas = [line.strip() for line in f.readlines()]\n",
    "\n",
    "for empresa in empresas:\n",
    "    print(empresa)\n",
    "\n",
    "# Guardar resultados\n",
    "with open(\"resultados.csv\", \"w\", encoding=\"utf-8\") as out:\n",
    "    out.write(\"Empresa,Primer enlace encontrado\\n\")\n",
    "    for empresa in empresas:\n",
    "        print(f\"Buscando: {empresa}\")\n",
    "        enlaces = buscar_duckduckgo(f\"{empresa} sitio web contacto\")\n",
    "        if enlaces:\n",
    "            out.write(f\"{empresa},{enlaces[0]}\\n\")\n",
    "        else:\n",
    "            out.write(f\"{empresa},No encontrado\\n\")\n",
    "        time.sleep(2)  # Pausa para no ser bloqueado\n"
   ]
  }
 ],
 "metadata": {
  "kernelspec": {
   "display_name": "Python 3",
   "language": "python",
   "name": "python3"
  },
  "language_info": {
   "codemirror_mode": {
    "name": "ipython",
    "version": 3
   },
   "file_extension": ".py",
   "mimetype": "text/x-python",
   "name": "python",
   "nbconvert_exporter": "python",
   "pygments_lexer": "ipython3",
   "version": "3.10.11"
  }
 },
 "nbformat": 4,
 "nbformat_minor": 5
}
